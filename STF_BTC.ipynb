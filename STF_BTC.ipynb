{
 "cells": [
  {
   "cell_type": "code",
   "execution_count": 2,
   "id": "0d6c5020",
   "metadata": {},
   "outputs": [],
   "source": [
    "import ipympl\n",
    "%run ./BTC_price/STF_BTC.py"
   ]
  },
  {
   "cell_type": "markdown",
   "id": "9b894b97",
   "metadata": {},
   "source": [
    "**Stock-to-flow Ratio**\n",
    "\n",
    "The Stock-to-flow (STF) ratio can be an indiator of BTC scarcity and can have a potential effect on price. BTC has historially undergone bull and bear markets that coincide with halving periods. Significantly under or overperforming STF can be an indicator of an upcoming correction."
   ]
  },
  {
   "cell_type": "code",
   "execution_count": 10,
   "id": "4519aa2c",
   "metadata": {},
   "outputs": [
    {
     "data": {
      "application/vnd.jupyter.widget-view+json": {
       "model_id": "fd682d77097e486d92dff18f119514a4",
       "version_major": 2,
       "version_minor": 0
      },
      "text/plain": [
       "Canvas(toolbar=Toolbar(toolitems=[('Home', 'Reset original view', 'home', 'home'), ('Back', 'Back to previous …"
      ]
     },
     "metadata": {},
     "output_type": "display_data"
    }
   ],
   "source": [
    "%matplotlib widget\n",
    "plotSTF()"
   ]
  },
  {
   "cell_type": "markdown",
   "id": "8dcbfe95",
   "metadata": {},
   "source": [
    "**Figure 1.** BTC has historically correlated well to the STF and major over or undeperformance can be an indicator of an upcoming rally or sell-off period."
   ]
  },
  {
   "cell_type": "code",
   "execution_count": null,
   "id": "471ddaec",
   "metadata": {},
   "outputs": [],
   "source": []
  }
 ],
 "metadata": {
  "kernelspec": {
   "display_name": "Python 3",
   "language": "python",
   "name": "python3"
  },
  "language_info": {
   "codemirror_mode": {
    "name": "ipython",
    "version": 3
   },
   "file_extension": ".py",
   "mimetype": "text/x-python",
   "name": "python",
   "nbconvert_exporter": "python",
   "pygments_lexer": "ipython3",
   "version": "3.7.10"
  }
 },
 "nbformat": 4,
 "nbformat_minor": 5
}
